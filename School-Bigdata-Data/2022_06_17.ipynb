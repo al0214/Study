{
  "nbformat": 4,
  "nbformat_minor": 0,
  "metadata": {
    "colab": {
      "name": "2022-06-17.ipynb",
      "provenance": []
    },
    "kernelspec": {
      "name": "python3",
      "display_name": "Python 3"
    },
    "language_info": {
      "name": "python"
    }
  },
  "cells": [
    {
      "cell_type": "code",
      "execution_count": 3,
      "metadata": {
        "id": "_3TWSgXA7EyA"
      },
      "outputs": [],
      "source": [
        "import pandas as pd"
      ]
    },
    {
      "cell_type": "code",
      "source": [
        "# 열 이름을 key로 하고, 리스트를 value로 갖는 딕셔너리 정의(2차원 배열)\n",
        "dict_data = {'c0':[1,2,3],'c1':[4,5,6],'c2':[7,8,9],'c3':[10,11,12],'c4':[13,14,15]}\n",
        "\n",
        "# 판다스 DataFrame() 함수로 딕셔너리를 데이터 프레임으로 변환. 변수 df에 저장.\n",
        "df = pd.DataFrame(dict_data)\n",
        "\n",
        "# df의 자료형 출력\n",
        "print(type(df))\n",
        "# 변수 df에 저장되어 있는 데이터 프레임 객체를 출력\n",
        "print(df)"
      ],
      "metadata": {
        "colab": {
          "base_uri": "https://localhost:8080/"
        },
        "id": "lm5Xd6J58eok",
        "outputId": "20b628cb-633b-4060-f205-af6354cb2d2e"
      },
      "execution_count": 5,
      "outputs": [
        {
          "output_type": "stream",
          "name": "stdout",
          "text": [
            "<class 'pandas.core.frame.DataFrame'>\n",
            "   c0  c1  c2  c3  c4\n",
            "0   1   4   7  10  13\n",
            "1   2   5   8  11  14\n",
            "2   3   6   9  12  15\n"
          ]
        }
      ]
    },
    {
      "cell_type": "code",
      "source": [
        "import pandas as pd\n",
        "\n",
        "# 행 인덱스/열 이름 지정하여, 데이터프레임 만들기\n",
        "df = pd.DataFrame([[15, '남', '덕영중'],[17, '여', '수리중']], index=['준서', '예은'], columns=['나이', '성별', '학교'])\n",
        "\n",
        "# 행 인덱스, 열 이름 확인하기\n",
        "print(f'데이터 프레임 : {print(df)}\\n 행 인덱스 : {print(df.index)}\\n 열 이름 : {print(df.columns)}')"
      ],
      "metadata": {
        "colab": {
          "base_uri": "https://localhost:8080/"
        },
        "id": "sAdtgfbf84_l",
        "outputId": "8a7df40a-b672-4b48-fd1e-efc67b299793"
      },
      "execution_count": 11,
      "outputs": [
        {
          "output_type": "stream",
          "name": "stdout",
          "text": [
            "     연령 남녀   소속\n",
            "학생1  15  남  덕영중\n",
            "학생2  17  여  수리중\n",
            "Index(['학생1', '학생2'], dtype='object')\n",
            "Index(['연령', '남녀', '소속'], dtype='object')\n",
            "데이터 프레임 : None\n",
            " 행 인덱스 : None\n",
            " 열 이름 : None\n"
          ]
        }
      ]
    },
    {
      "cell_type": "code",
      "source": [
        "import pandas as pd\n",
        "\n",
        "# 행 인덱스/열 이름 지정하여, 데이터프레임 만들기\n",
        "df = pd.DataFrame([[15, '남', '덕영중'],[17, '여', '수리중']], index=['준서', '예은'], columns=['나이', '성별', '학교'])\n",
        "\n",
        "# 행 인덱스, 열 이름 변경하기\n",
        "df.index=['학생1', '학생2']\n",
        "df.columns = ['연령', '남녀', '소속']\n",
        "\n",
        "# 행 인덱스, 열 이름 확인하기\n",
        "print(f'데이터 프레임 : {print(df)}\\n 행 인덱스 : {print(df.index)}\\n 열 이름 : {print(df.columns)}')"
      ],
      "metadata": {
        "colab": {
          "base_uri": "https://localhost:8080/"
        },
        "id": "UblJssEb-ZJ6",
        "outputId": "de6bd264-6f7d-4448-f531-e436fb88ac71"
      },
      "execution_count": 12,
      "outputs": [
        {
          "output_type": "stream",
          "name": "stdout",
          "text": [
            "     연령 남녀   소속\n",
            "학생1  15  남  덕영중\n",
            "학생2  17  여  수리중\n",
            "Index(['학생1', '학생2'], dtype='object')\n",
            "Index(['연령', '남녀', '소속'], dtype='object')\n",
            "데이터 프레임 : None\n",
            " 행 인덱스 : None\n",
            " 열 이름 : None\n"
          ]
        }
      ]
    },
    {
      "cell_type": "code",
      "source": [
        "import pandas as pd\n",
        "\n",
        "# 행 인덱스/열 이름 지정하여, 데이터프레임 만들기\n",
        "df = pd.DataFrame([[15, '남', '덕영중'],[17, '여', '수리중']], index=['준서', '예은'], columns=['나이', '성별', '학교'])\n",
        "\n",
        "# 행 인덱스, 열 이름 변경하기\n",
        "df.rename(columns={'나이':'연령', '성별':'남녀', '학교':'소속'}, inplace=True)\n",
        "df.rename(index={'준서':'학생1', '예은':'학생2'}, inplace=True)\n",
        "\n",
        "# 행 인덱스, 열 이름 확인하기\n",
        "print(f'데이터 프레임 : {print(df)}\\n 행 인덱스 : {print(df.index)}\\n 열 이름 : {print(df.columns)}')"
      ],
      "metadata": {
        "colab": {
          "base_uri": "https://localhost:8080/"
        },
        "id": "9E-1WfLMAep7",
        "outputId": "4fd24c9a-bc72-4d18-e8c2-8aac7701d275"
      },
      "execution_count": 13,
      "outputs": [
        {
          "output_type": "stream",
          "name": "stdout",
          "text": [
            "     연령 남녀   소속\n",
            "학생1  15  남  덕영중\n",
            "학생2  17  여  수리중\n",
            "Index(['학생1', '학생2'], dtype='object')\n",
            "Index(['연령', '남녀', '소속'], dtype='object')\n",
            "데이터 프레임 : None\n",
            " 행 인덱스 : None\n",
            " 열 이름 : None\n"
          ]
        }
      ]
    },
    {
      "cell_type": "code",
      "source": [
        "import pandas as pd\n",
        "\n",
        "# DataFrame() 함수로 데이터 프레임 변환. 변수 df에 저장\n",
        "exam_data = {'수학':[90, 80, 70],'영어':[98,89,95],'음악':[85,95,100],'체육':[100,90,90]}\n",
        "\n",
        "df = pd.DataFrame(exam_data, index=['서준', '우현', '인아'])\n",
        "print(f'{df}\\n')\n",
        "\n",
        "# 데이터프레임 df를 복제하여 변수 df에 저장. df2의 1개 행(row)을 삭제\n",
        "df2 = df[:]\n",
        "df2.drop('우현', inplace=True)\n",
        "print(f'{df2}\\n')\n",
        "\n",
        "# 데이터프레임 df를 복제하여 변수 df3에 저장. df의 2개 행(row)응 삭제\n",
        "df3 = df[:]\n",
        "df3.drop(['우현', '인아'], inplace = True)\n",
        "print(df3)"
      ],
      "metadata": {
        "colab": {
          "base_uri": "https://localhost:8080/"
        },
        "id": "HlZQtn7-BkHl",
        "outputId": "97a9a1c2-56b8-41b2-b417-26019c5da9f4"
      },
      "execution_count": 16,
      "outputs": [
        {
          "output_type": "stream",
          "name": "stdout",
          "text": [
            "    수학  영어   음악   체육\n",
            "서준  90  98   85  100\n",
            "우현  80  89   95   90\n",
            "인아  70  95  100   90\n",
            "\n",
            "    수학  영어   음악   체육\n",
            "서준  90  98   85  100\n",
            "인아  70  95  100   90\n",
            "\n",
            "    수학  영어  음악   체육\n",
            "서준  90  98  85  100\n"
          ]
        },
        {
          "output_type": "stream",
          "name": "stderr",
          "text": [
            "/usr/local/lib/python3.7/dist-packages/pandas/core/frame.py:4913: SettingWithCopyWarning: \n",
            "A value is trying to be set on a copy of a slice from a DataFrame\n",
            "\n",
            "See the caveats in the documentation: https://pandas.pydata.org/pandas-docs/stable/user_guide/indexing.html#returning-a-view-versus-a-copy\n",
            "  errors=errors,\n",
            "/usr/local/lib/python3.7/dist-packages/pandas/core/frame.py:4913: SettingWithCopyWarning: \n",
            "A value is trying to be set on a copy of a slice from a DataFrame\n",
            "\n",
            "See the caveats in the documentation: https://pandas.pydata.org/pandas-docs/stable/user_guide/indexing.html#returning-a-view-versus-a-copy\n",
            "  errors=errors,\n"
          ]
        }
      ]
    },
    {
      "cell_type": "code",
      "source": [
        "import pandas as pd\n",
        "\n",
        "# DataFrame() 함수로 데이터 프레임 변환. 변수 df에 저장\n",
        "exam_data = {'수학':[90, 80, 70],'영어':[98,89,95],'음악':[85,95,100],'체육':[100,90,90]}\n",
        "\n",
        "df = pd.DataFrame(exam_data, index=['서준', '우현', '인아'])\n",
        "print(f'{df}\\n')\n",
        "\n",
        "# 데이터프레임 df를 복제하여 변수 df4에 저장. df4의 1개 열을 삭제\n",
        "df4 = df[:]\n",
        "df4.drop('수학', axis=1, inplace = True)\n",
        "print(f'{df4}\\n')\n",
        "\n",
        "# 데이터프레임 df를 복제하여 변수 df5에 저장. df5의 2개 열을 삭제\n",
        "df5 = df.copy()\n",
        "df5.drop(['영어', '음악'], axis = 1, inplace = True)\n",
        "print(df5)"
      ],
      "metadata": {
        "colab": {
          "base_uri": "https://localhost:8080/"
        },
        "id": "9cvJfCuMJeSs",
        "outputId": "69cf7caa-8c1f-4e2e-8127-ee55dbdacae3"
      },
      "execution_count": 17,
      "outputs": [
        {
          "output_type": "stream",
          "name": "stdout",
          "text": [
            "    수학  영어   음악   체육\n",
            "서준  90  98   85  100\n",
            "우현  80  89   95   90\n",
            "인아  70  95  100   90\n",
            "\n",
            "    영어   음악   체육\n",
            "서준  98   85  100\n",
            "우현  89   95   90\n",
            "인아  95  100   90\n",
            "\n",
            "    수학   체육\n",
            "서준  90  100\n",
            "우현  80   90\n",
            "인아  70   90\n"
          ]
        },
        {
          "output_type": "stream",
          "name": "stderr",
          "text": [
            "/usr/local/lib/python3.7/dist-packages/pandas/core/frame.py:4913: SettingWithCopyWarning: \n",
            "A value is trying to be set on a copy of a slice from a DataFrame\n",
            "\n",
            "See the caveats in the documentation: https://pandas.pydata.org/pandas-docs/stable/user_guide/indexing.html#returning-a-view-versus-a-copy\n",
            "  errors=errors,\n"
          ]
        }
      ]
    },
    {
      "cell_type": "code",
      "source": [
        "data = {\"국어\" : [80, 90, 70, 30], \"영어\" : [90, 70, 60, 40], \"수학\": [90, 60, 80, 30],}\n",
        "columns = [\"국어\", \"영어\", \"수학\"]\n",
        "index = [\"예성\", \"재성\", \"진양\", \"혁준\"]\n",
        "df = pd.DataFrame(data, index=index, columns=columns)\n",
        "print(df)\n",
        "\n",
        "sd = df['수학']\n",
        "print(sd)\n",
        "print(type(sd))\n",
        "\n",
        "df[\"평균\"] = df.mean(axis=1)\n",
        "print(df)\n",
        "\n",
        "s = df.loc[\"진양\"]\n",
        "print(s)\n",
        "print(type(s))"
      ],
      "metadata": {
        "colab": {
          "base_uri": "https://localhost:8080/"
        },
        "id": "Oi7mYx_TLu0Z",
        "outputId": "e7803c3c-bfcc-4a85-a07f-8715f4edac05"
      },
      "execution_count": 25,
      "outputs": [
        {
          "output_type": "stream",
          "name": "stdout",
          "text": [
            "    국어  영어  수학\n",
            "예성  80  90  90\n",
            "재성  90  70  60\n",
            "진양  70  60  80\n",
            "혁준  30  40  30\n",
            "예성    90\n",
            "재성    60\n",
            "진양    80\n",
            "혁준    30\n",
            "Name: 수학, dtype: int64\n",
            "<class 'pandas.core.series.Series'>\n",
            "    국어  영어  수학         평균\n",
            "예성  80  90  90  86.666667\n",
            "재성  90  70  60  73.333333\n",
            "진양  70  60  80  70.000000\n",
            "혁준  30  40  30  33.333333\n",
            "국어    70.0\n",
            "영어    60.0\n",
            "수학    80.0\n",
            "평균    70.0\n",
            "Name: 진양, dtype: float64\n",
            "<class 'pandas.core.series.Series'>\n"
          ]
        }
      ]
    }
  ]
}