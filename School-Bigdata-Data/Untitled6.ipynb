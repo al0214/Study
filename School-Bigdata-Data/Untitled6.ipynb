{
  "nbformat": 4,
  "nbformat_minor": 0,
  "metadata": {
    "colab": {
      "name": "Untitled6.ipynb",
      "provenance": []
    },
    "kernelspec": {
      "name": "python3",
      "display_name": "Python 3"
    },
    "language_info": {
      "name": "python"
    }
  },
  "cells": [
    {
      "cell_type": "code",
      "execution_count": null,
      "metadata": {
        "colab": {
          "base_uri": "https://localhost:8080/"
        },
        "id": "fg2FTAF49tWu",
        "outputId": "5fe8d352-24c5-4c04-e2e8-b468d41eced7"
      },
      "outputs": [
        {
          "output_type": "execute_result",
          "data": {
            "text/plain": [
              "array([0, 1, 2, 3, 4])"
            ]
          },
          "metadata": {},
          "execution_count": 1
        }
      ],
      "source": [
        "import numpy as np\n",
        "# 배열의 크기 구분\n",
        "# - 같은 값과 같은 숫자를 가진 배열이라도 크기가 다르면\n",
        "#   다른 배열\n",
        "# - 배열의 연산 및 반복에서 주의 요망\n",
        "#   예 : 길이가 5일 1차원 배열, (5,1)인 2차원배열,\n",
        "#        (1, 5)인 2차원 배열\n",
        "x = np.arange(5)\n",
        "x"
      ]
    },
    {
      "cell_type": "code",
      "source": [
        "x.reshape(1, 5)"
      ],
      "metadata": {
        "colab": {
          "base_uri": "https://localhost:8080/"
        },
        "id": "Kyf_ZgyD-gbs",
        "outputId": "31a85acd-a5f2-4fb5-b578-5af1f8d198e1"
      },
      "execution_count": null,
      "outputs": [
        {
          "output_type": "execute_result",
          "data": {
            "text/plain": [
              "array([[0, 1, 2, 3, 4]])"
            ]
          },
          "metadata": {},
          "execution_count": 2
        }
      ]
    },
    {
      "cell_type": "code",
      "source": [
        "x.reshape(5, 1)"
      ],
      "metadata": {
        "colab": {
          "base_uri": "https://localhost:8080/"
        },
        "id": "gwaNx_xc-kGU",
        "outputId": "a3c30be8-acfa-4643-d204-1f890ce015c9"
      },
      "execution_count": null,
      "outputs": [
        {
          "output_type": "execute_result",
          "data": {
            "text/plain": [
              "array([[0],\n",
              "       [1],\n",
              "       [2],\n",
              "       [3],\n",
              "       [4]])"
            ]
          },
          "metadata": {},
          "execution_count": 3
        }
      ]
    },
    {
      "cell_type": "code",
      "source": [
        "# 아래와 같은 행렬을 만든다. (float16, 이름 bb)\n",
        "# 10 20 30 40\n",
        "# 50 60 70 80\n",
        "import numpy as np\n",
        "bb = np.array([[10,20,30,40], [50,60,70,80]], dtype = 'float16')\n",
        "bb"
      ],
      "metadata": {
        "colab": {
          "base_uri": "https://localhost:8080/"
        },
        "id": "L046I9z-_NK1",
        "outputId": "c01b47ce-f2b8-4527-a2ad-f623fdf18e2f"
      },
      "execution_count": null,
      "outputs": [
        {
          "output_type": "execute_result",
          "data": {
            "text/plain": [
              "array([[10., 20., 30., 40.],\n",
              "       [50., 60., 70., 80.]], dtype=float16)"
            ]
          },
          "metadata": {},
          "execution_count": 9
        }
      ]
    },
    {
      "cell_type": "code",
      "source": [
        "# 1. int16의 같은 행렬을 만드시오. (이름 cc)\n",
        "cc = np.array([[10,20,30,40], [50,60,70,80]], dtype = 'int16')\n",
        "cc"
      ],
      "metadata": {
        "colab": {
          "base_uri": "https://localhost:8080/"
        },
        "id": "eJAbdDfpBa6F",
        "outputId": "8b5c39c8-5ee8-48d1-c24d-89a204091832"
      },
      "execution_count": null,
      "outputs": [
        {
          "output_type": "execute_result",
          "data": {
            "text/plain": [
              "array([[10, 20, 30, 40],\n",
              "       [50, 60, 70, 80]], dtype=int16)"
            ]
          },
          "metadata": {},
          "execution_count": 8
        }
      ]
    },
    {
      "cell_type": "code",
      "source": [
        "# 2. flatten을 사용하여 1차원으로 변형시킨다.\n",
        "cc.flatten()"
      ],
      "metadata": {
        "colab": {
          "base_uri": "https://localhost:8080/"
        },
        "id": "x4tv_RNbAemd",
        "outputId": "6bb181be-6172-4ac0-8d34-2191bd266107"
      },
      "execution_count": null,
      "outputs": [
        {
          "output_type": "execute_result",
          "data": {
            "text/plain": [
              "array([10, 20, 30, 40, 50, 60, 70, 80], dtype=int16)"
            ]
          },
          "metadata": {},
          "execution_count": 10
        }
      ]
    },
    {
      "cell_type": "code",
      "source": [
        "# 3. cc 행렬을 (4X2) 크기로 변형시킨다.\n",
        "#    1) reshape을 사용하여 변형\n",
        "cc.reshape(4, 2) # or cc.reshape(4, -1)"
      ],
      "metadata": {
        "colab": {
          "base_uri": "https://localhost:8080/"
        },
        "id": "GCi5vjV9BI6E",
        "outputId": "954824dc-c979-422d-82aa-02bb61579d8c"
      },
      "execution_count": null,
      "outputs": [
        {
          "output_type": "execute_result",
          "data": {
            "text/plain": [
              "array([[10, 20],\n",
              "       [30, 40],\n",
              "       [50, 60],\n",
              "       [70, 80]], dtype=int16)"
            ]
          },
          "metadata": {},
          "execution_count": 19
        }
      ]
    },
    {
      "cell_type": "code",
      "source": [
        "#    2) 전치를 사용하여 변형\n",
        "cc.T"
      ],
      "metadata": {
        "colab": {
          "base_uri": "https://localhost:8080/"
        },
        "id": "Lzg2ZxEoB8A9",
        "outputId": "f581911f-2d5e-4a40-d4a8-02df34acd350"
      },
      "execution_count": null,
      "outputs": [
        {
          "output_type": "execute_result",
          "data": {
            "text/plain": [
              "array([[10, 50],\n",
              "       [20, 60],\n",
              "       [30, 70],\n",
              "       [40, 80]], dtype=int16)"
            ]
          },
          "metadata": {},
          "execution_count": 22
        }
      ]
    },
    {
      "cell_type": "code",
      "source": [
        "# 4. cc와 같은 크기를 가진, 원소를\n",
        "#    1로만 가지는 행렬 생성 (이름 dd)\n",
        "dd = np.ones_like(cc)\n",
        "dd"
      ],
      "metadata": {
        "colab": {
          "base_uri": "https://localhost:8080/"
        },
        "id": "0i5q0nGjCAGU",
        "outputId": "ec30fa06-b0a7-4fb1-d996-0b47ffa66437"
      },
      "execution_count": null,
      "outputs": [
        {
          "output_type": "execute_result",
          "data": {
            "text/plain": [
              "array([[1, 1, 1, 1],\n",
              "       [1, 1, 1, 1]], dtype=int16)"
            ]
          },
          "metadata": {},
          "execution_count": 23
        }
      ]
    },
    {
      "cell_type": "code",
      "source": [
        "# 4. cc와 같은 크기를 가진, 원소를\n",
        "#    0로만 가지는 행렬 생성 (이름 ff)\n",
        "ff = np.zeros_like(cc)\n",
        "ff"
      ],
      "metadata": {
        "colab": {
          "base_uri": "https://localhost:8080/"
        },
        "id": "ZORYJz_8E7rX",
        "outputId": "fa3a694d-8bb3-4599-9c31-0a1e66d2490f"
      },
      "execution_count": null,
      "outputs": [
        {
          "output_type": "execute_result",
          "data": {
            "text/plain": [
              "array([[0, 0, 0, 0],\n",
              "       [0, 0, 0, 0]], dtype=int16)"
            ]
          },
          "metadata": {},
          "execution_count": 24
        }
      ]
    },
    {
      "cell_type": "code",
      "source": [
        "# 배열의 연결\n",
        "# hstack : 행의 수가 같은 배열을 옆으로 연결 (horizontal)\n",
        "a1 = np.ones((2, 3))\n",
        "a1"
      ],
      "metadata": {
        "colab": {
          "base_uri": "https://localhost:8080/"
        },
        "id": "x5aI7C5iHox4",
        "outputId": "16977965-9ef6-4009-c390-1f00e4165b48"
      },
      "execution_count": null,
      "outputs": [
        {
          "output_type": "execute_result",
          "data": {
            "text/plain": [
              "array([[1., 1., 1.],\n",
              "       [1., 1., 1.]])"
            ]
          },
          "metadata": {},
          "execution_count": 25
        }
      ]
    },
    {
      "cell_type": "code",
      "source": [
        "a2 = np.zeros((2, 2))\n",
        "a2"
      ],
      "metadata": {
        "colab": {
          "base_uri": "https://localhost:8080/"
        },
        "id": "dC42zhfUIm4x",
        "outputId": "507d8589-507e-41c0-b87c-8260cb913a9a"
      },
      "execution_count": null,
      "outputs": [
        {
          "output_type": "execute_result",
          "data": {
            "text/plain": [
              "array([[0., 0.],\n",
              "       [0., 0.]])"
            ]
          },
          "metadata": {},
          "execution_count": 26
        }
      ]
    },
    {
      "cell_type": "code",
      "source": [
        "np.hstack([a1, a2])"
      ],
      "metadata": {
        "colab": {
          "base_uri": "https://localhost:8080/"
        },
        "id": "p6pZAs3-ItpP",
        "outputId": "b79ae243-5cc1-46df-f33f-2e96bec4775e"
      },
      "execution_count": null,
      "outputs": [
        {
          "output_type": "execute_result",
          "data": {
            "text/plain": [
              "array([[1., 1., 1., 0., 0.],\n",
              "       [1., 1., 1., 0., 0.]])"
            ]
          },
          "metadata": {},
          "execution_count": 27
        }
      ]
    },
    {
      "cell_type": "code",
      "source": [
        "# vstack : 열의 수가 같은 배열을 아래위로 연결 (vertical)\n",
        "b1 = np.ones((2, 3))\n",
        "b1"
      ],
      "metadata": {
        "colab": {
          "base_uri": "https://localhost:8080/"
        },
        "id": "CLPXxnNIJPRf",
        "outputId": "70215b43-eeab-41ee-bdae-7bcfc8bf0dbc"
      },
      "execution_count": null,
      "outputs": [
        {
          "output_type": "execute_result",
          "data": {
            "text/plain": [
              "array([[1., 1., 1.],\n",
              "       [1., 1., 1.]])"
            ]
          },
          "metadata": {},
          "execution_count": 28
        }
      ]
    },
    {
      "cell_type": "code",
      "source": [
        "b2 = np.zeros((3, 3))\n",
        "b2"
      ],
      "metadata": {
        "colab": {
          "base_uri": "https://localhost:8080/"
        },
        "id": "WgUnM4zLJZM2",
        "outputId": "199f5b8a-8665-4573-8f2a-11c91084e765"
      },
      "execution_count": null,
      "outputs": [
        {
          "output_type": "execute_result",
          "data": {
            "text/plain": [
              "array([[0., 0., 0.],\n",
              "       [0., 0., 0.],\n",
              "       [0., 0., 0.]])"
            ]
          },
          "metadata": {},
          "execution_count": 29
        }
      ]
    },
    {
      "cell_type": "code",
      "source": [
        "np.vstack([b1, b2])"
      ],
      "metadata": {
        "colab": {
          "base_uri": "https://localhost:8080/"
        },
        "id": "dgKCRpclJdPH",
        "outputId": "93b9439a-0373-4da4-fc0d-2ce60dbe58cf"
      },
      "execution_count": null,
      "outputs": [
        {
          "output_type": "execute_result",
          "data": {
            "text/plain": [
              "array([[1., 1., 1.],\n",
              "       [1., 1., 1.],\n",
              "       [0., 0., 0.],\n",
              "       [0., 0., 0.],\n",
              "       [0., 0., 0.]])"
            ]
          },
          "metadata": {},
          "execution_count": 30
        }
      ]
    },
    {
      "cell_type": "code",
      "source": [
        "# dstack : 행과 열이 아닌 깊이 방향으로 배열을 연결\n",
        "c1 = np.ones((3, 4))\n",
        "c1"
      ],
      "metadata": {
        "colab": {
          "base_uri": "https://localhost:8080/"
        },
        "id": "9nJoPEUtKAhf",
        "outputId": "bdfe55f9-827c-45da-e91f-17423d1ca7ba"
      },
      "execution_count": null,
      "outputs": [
        {
          "output_type": "execute_result",
          "data": {
            "text/plain": [
              "array([[1., 1., 1., 1.],\n",
              "       [1., 1., 1., 1.],\n",
              "       [1., 1., 1., 1.]])"
            ]
          },
          "metadata": {},
          "execution_count": 31
        }
      ]
    },
    {
      "cell_type": "code",
      "source": [
        "c2 = np.zeros((3, 4))\n",
        "c2"
      ],
      "metadata": {
        "colab": {
          "base_uri": "https://localhost:8080/"
        },
        "id": "42CWb56kKKzS",
        "outputId": "a240fdd4-e666-4a42-f71b-75438c9744e6"
      },
      "execution_count": null,
      "outputs": [
        {
          "output_type": "execute_result",
          "data": {
            "text/plain": [
              "array([[0., 0., 0., 0.],\n",
              "       [0., 0., 0., 0.],\n",
              "       [0., 0., 0., 0.]])"
            ]
          },
          "metadata": {},
          "execution_count": 32
        }
      ]
    },
    {
      "cell_type": "code",
      "source": [
        "np.dstack([c1, c2])\n",
        "(np.dstack([c1, c2])).shape"
      ],
      "metadata": {
        "colab": {
          "base_uri": "https://localhost:8080/"
        },
        "id": "bXKsQCamKOwp",
        "outputId": "bb22483c-bce8-4736-95d8-29a1398299eb"
      },
      "execution_count": null,
      "outputs": [
        {
          "output_type": "execute_result",
          "data": {
            "text/plain": [
              "(3, 4, 2)"
            ]
          },
          "metadata": {},
          "execution_count": 35
        }
      ]
    },
    {
      "cell_type": "code",
      "source": [
        "# stack : 앞의 dstack 메소드의 확장 기능 제공\n",
        "# axis 인수(기본 값 0)를 지정하여 지정한 인수로 차원을 확장\n",
        "# axis = 0 : 위에서 아래로 Data를 합친다는 의미\n",
        "c = np.stack([c1, c2])   # axis = 0 으로 기본 세팅\n",
        "c"
      ],
      "metadata": {
        "colab": {
          "base_uri": "https://localhost:8080/"
        },
        "id": "qjwZpDhaK51Q",
        "outputId": "3327da94-8e2f-4188-e6ce-422ad6b254e1"
      },
      "execution_count": null,
      "outputs": [
        {
          "output_type": "execute_result",
          "data": {
            "text/plain": [
              "array([[[1., 1., 1., 1.],\n",
              "        [1., 1., 1., 1.],\n",
              "        [1., 1., 1., 1.]],\n",
              "\n",
              "       [[0., 0., 0., 0.],\n",
              "        [0., 0., 0., 0.],\n",
              "        [0., 0., 0., 0.]]])"
            ]
          },
          "metadata": {},
          "execution_count": 36
        }
      ]
    },
    {
      "cell_type": "code",
      "source": [
        "c.shape"
      ],
      "metadata": {
        "colab": {
          "base_uri": "https://localhost:8080/"
        },
        "id": "E37V2MPlLsTh",
        "outputId": "d33e2510-1c42-47ec-f24b-31a0966b5e2f"
      },
      "execution_count": null,
      "outputs": [
        {
          "output_type": "execute_result",
          "data": {
            "text/plain": [
              "(2, 3, 4)"
            ]
          },
          "metadata": {},
          "execution_count": 37
        }
      ]
    },
    {
      "cell_type": "code",
      "source": [
        "# axis = 1 : 좌에서 우로 데이터를 합친다는 의미\n",
        "c = np.stack([c1, c2], axis=1)\n",
        "c"
      ],
      "metadata": {
        "colab": {
          "base_uri": "https://localhost:8080/"
        },
        "id": "uZvXZ-GXL6pP",
        "outputId": "1700194c-a583-4e79-db95-6c565ff23b63"
      },
      "execution_count": null,
      "outputs": [
        {
          "output_type": "execute_result",
          "data": {
            "text/plain": [
              "array([[[1., 1., 1., 1.],\n",
              "        [0., 0., 0., 0.]],\n",
              "\n",
              "       [[1., 1., 1., 1.],\n",
              "        [0., 0., 0., 0.]],\n",
              "\n",
              "       [[1., 1., 1., 1.],\n",
              "        [0., 0., 0., 0.]]])"
            ]
          },
          "metadata": {},
          "execution_count": 38
        }
      ]
    },
    {
      "cell_type": "code",
      "source": [
        "c.shape"
      ],
      "metadata": {
        "colab": {
          "base_uri": "https://localhost:8080/"
        },
        "id": "UMOkc53HMHdJ",
        "outputId": "7faf1358-0562-48a1-9c03-d03973b9f4e6"
      },
      "execution_count": null,
      "outputs": [
        {
          "output_type": "execute_result",
          "data": {
            "text/plain": [
              "(3, 2, 4)"
            ]
          },
          "metadata": {},
          "execution_count": 39
        }
      ]
    },
    {
      "cell_type": "code",
      "source": [
        "# tile : 동일한 배열을 반복하여 연결\n",
        "a = np.array([[0,1,2], [3,4,5]])\n",
        "np.tile(a, 2)"
      ],
      "metadata": {
        "colab": {
          "base_uri": "https://localhost:8080/"
        },
        "id": "3wXOOyt3MfFw",
        "outputId": "93319d88-58e3-48d4-d315-2dbe04e2ce23"
      },
      "execution_count": null,
      "outputs": [
        {
          "output_type": "execute_result",
          "data": {
            "text/plain": [
              "array([[0, 1, 2, 0, 1, 2],\n",
              "       [3, 4, 5, 3, 4, 5]])"
            ]
          },
          "metadata": {},
          "execution_count": 40
        }
      ]
    },
    {
      "cell_type": "code",
      "source": [
        "np.tile(a, (3, 2))"
      ],
      "metadata": {
        "colab": {
          "base_uri": "https://localhost:8080/"
        },
        "id": "S14h_tIMMm0_",
        "outputId": "78045a6f-c95f-4a64-d13e-40f8e6417585"
      },
      "execution_count": null,
      "outputs": [
        {
          "output_type": "execute_result",
          "data": {
            "text/plain": [
              "array([[0, 1, 2, 0, 1, 2],\n",
              "       [3, 4, 5, 3, 4, 5],\n",
              "       [0, 1, 2, 0, 1, 2],\n",
              "       [3, 4, 5, 3, 4, 5],\n",
              "       [0, 1, 2, 0, 1, 2],\n",
              "       [3, 4, 5, 3, 4, 5]])"
            ]
          },
          "metadata": {},
          "execution_count": 41
        }
      ]
    },
    {
      "cell_type": "code",
      "source": [
        "# 1.  hstack 사용\n",
        "c1 = np.array([[1, 4], [2, 5], [3,6],[1, 4], [2, 5], [3,6]])\n",
        "np.hstack([c1, c1])"
      ],
      "metadata": {
        "colab": {
          "base_uri": "https://localhost:8080/"
        },
        "id": "usGU7uoUNbJA",
        "outputId": "e60230ec-17a8-4cec-b0ed-3d08669181a8"
      },
      "execution_count": null,
      "outputs": [
        {
          "output_type": "execute_result",
          "data": {
            "text/plain": [
              "array([[1, 4, 1, 4],\n",
              "       [2, 5, 2, 5],\n",
              "       [3, 6, 3, 6],\n",
              "       [1, 4, 1, 4],\n",
              "       [2, 5, 2, 5],\n",
              "       [3, 6, 3, 6]])"
            ]
          },
          "metadata": {},
          "execution_count": 44
        }
      ]
    },
    {
      "cell_type": "code",
      "source": [
        "# 2. vstack 사용\n",
        "c2 = np.array([[1,4,1,4], [2,5,2,5], [3,6,3,6]])\n",
        "np.vstack([c2, c2])"
      ],
      "metadata": {
        "colab": {
          "base_uri": "https://localhost:8080/"
        },
        "id": "Bx_cnQBKPfFD",
        "outputId": "a215fc2a-2805-4b8b-9be8-bfb8c4cead01"
      },
      "execution_count": null,
      "outputs": [
        {
          "output_type": "execute_result",
          "data": {
            "text/plain": [
              "array([[1, 4, 1, 4],\n",
              "       [2, 5, 2, 5],\n",
              "       [3, 6, 3, 6],\n",
              "       [1, 4, 1, 4],\n",
              "       [2, 5, 2, 5],\n",
              "       [3, 6, 3, 6]])"
            ]
          },
          "metadata": {},
          "execution_count": 45
        }
      ]
    },
    {
      "cell_type": "code",
      "source": [
        "# 3. tile 사용\n",
        "ee = np.array([[1, 4], [2, 5], [3, 6]])\n",
        "np.tile(ee, (2, 2))"
      ],
      "metadata": {
        "colab": {
          "base_uri": "https://localhost:8080/"
        },
        "id": "pm62KDXhNEsI",
        "outputId": "ce3abd00-8aca-475c-d936-97e215964b16"
      },
      "execution_count": null,
      "outputs": [
        {
          "output_type": "execute_result",
          "data": {
            "text/plain": [
              "array([[1, 4, 1, 4],\n",
              "       [2, 5, 2, 5],\n",
              "       [3, 6, 3, 6],\n",
              "       [1, 4, 1, 4],\n",
              "       [2, 5, 2, 5],\n",
              "       [3, 6, 3, 6]])"
            ]
          },
          "metadata": {},
          "execution_count": 42
        }
      ]
    },
    {
      "cell_type": "code",
      "source": [
        "x = np.arange(1, 10001)\n",
        "y = np.arange(10001, 20001)\n",
        "\n",
        "# 셀 시간 측정 매직 명령어\n",
        "%time\n",
        "z = np.zeros_like(x)\n",
        "for i in range(10000):\n",
        "  z[i] = x[i] + y[i]"
      ],
      "metadata": {
        "colab": {
          "base_uri": "https://localhost:8080/"
        },
        "id": "JmYpkxbUXAKp",
        "outputId": "b78b58fa-a955-4be1-c0bf-d796816d4f62"
      },
      "execution_count": null,
      "outputs": [
        {
          "output_type": "stream",
          "name": "stdout",
          "text": [
            "CPU times: user 4 µs, sys: 0 ns, total: 4 µs\n",
            "Wall time: 7.87 µs\n"
          ]
        }
      ]
    },
    {
      "cell_type": "code",
      "source": [
        "z[:10]"
      ],
      "metadata": {
        "colab": {
          "base_uri": "https://localhost:8080/"
        },
        "id": "H52SNyxkYXTl",
        "outputId": "61cd6f2b-ddf5-43d0-9467-f30757a6901a"
      },
      "execution_count": null,
      "outputs": [
        {
          "output_type": "execute_result",
          "data": {
            "text/plain": [
              "array([10002, 10004, 10006, 10008, 10010, 10012, 10014, 10016, 10018,\n",
              "       10020])"
            ]
          },
          "metadata": {},
          "execution_count": 48
        }
      ]
    },
    {
      "cell_type": "code",
      "source": [
        "%%time\n",
        "z = x + y"
      ],
      "metadata": {
        "colab": {
          "base_uri": "https://localhost:8080/"
        },
        "id": "xeZMDGDzYc4-",
        "outputId": "ed2b2f8e-ed61-4e69-c2c3-d4e2152d0a2d"
      },
      "execution_count": null,
      "outputs": [
        {
          "output_type": "stream",
          "name": "stdout",
          "text": [
            "CPU times: user 49 µs, sys: 4 µs, total: 53 µs\n",
            "Wall time: 57.5 µs\n"
          ]
        }
      ]
    },
    {
      "cell_type": "code",
      "source": [
        "z[:10]"
      ],
      "metadata": {
        "colab": {
          "base_uri": "https://localhost:8080/"
        },
        "id": "HhfnRQhbYj5r",
        "outputId": "68bb4f6f-c1f8-4119-e8bc-69b36bf8a3b2"
      },
      "execution_count": null,
      "outputs": [
        {
          "output_type": "execute_result",
          "data": {
            "text/plain": [
              "array([10002, 10004, 10006, 10008, 10010, 10012, 10014, 10016, 10018,\n",
              "       10020])"
            ]
          },
          "metadata": {},
          "execution_count": 50
        }
      ]
    },
    {
      "cell_type": "code",
      "source": [
        "# 백터화 연산\n",
        "# -> Numpy의 배열은 벡터화 연산(vectorized operation)을 지원함\n",
        "#   - 배열간의 연산에서 요소들끼리(element-wise) 연산\n",
        "#   - 일반 연산에서 각 요소에 모두 적용\n",
        "a = np.array([1,2,3,4])\n",
        "b = np.array([4,2,2,4])\n",
        "a + b"
      ],
      "metadata": {
        "colab": {
          "base_uri": "https://localhost:8080/"
        },
        "id": "cRoVjRkIZJ_U",
        "outputId": "0d2c47d1-0eb1-40d5-c608-55f5d440a5ba"
      },
      "execution_count": null,
      "outputs": [
        {
          "output_type": "execute_result",
          "data": {
            "text/plain": [
              "array([5, 4, 5, 8])"
            ]
          },
          "metadata": {},
          "execution_count": 58
        }
      ]
    },
    {
      "cell_type": "code",
      "source": [
        "a == b  # 논리 연산도 가능"
      ],
      "metadata": {
        "colab": {
          "base_uri": "https://localhost:8080/"
        },
        "id": "iRbQhxCfZnfM",
        "outputId": "fee052bb-5a05-4c2e-a10f-4a0a7189703e"
      },
      "execution_count": null,
      "outputs": [
        {
          "output_type": "execute_result",
          "data": {
            "text/plain": [
              "array([False,  True, False,  True])"
            ]
          },
          "metadata": {},
          "execution_count": 59
        }
      ]
    },
    {
      "cell_type": "code",
      "source": [
        "np.all(a == b)\n",
        "# all 명령 사용 시 모든 원소가 같은 지 검사한 후\n",
        "# 결과를 True/False 로 반환"
      ],
      "metadata": {
        "colab": {
          "base_uri": "https://localhost:8080/"
        },
        "id": "fe1K0DnaZrcb",
        "outputId": "d43e321b-17ea-4f5d-a36f-bc3de96aeef9"
      },
      "execution_count": null,
      "outputs": [
        {
          "output_type": "execute_result",
          "data": {
            "text/plain": [
              "False"
            ]
          },
          "metadata": {},
          "execution_count": 60
        }
      ]
    },
    {
      "cell_type": "code",
      "source": [
        "# 모든 요소 적용되는 일반 연산\n",
        "a = np.arange(5)\n",
        "a"
      ],
      "metadata": {
        "colab": {
          "base_uri": "https://localhost:8080/"
        },
        "id": "R5cJzs7eaNlV",
        "outputId": "b555f714-8709-43e0-9132-b35fa8ed3c8b"
      },
      "execution_count": null,
      "outputs": [
        {
          "output_type": "execute_result",
          "data": {
            "text/plain": [
              "array([0, 1, 2, 3, 4])"
            ]
          },
          "metadata": {},
          "execution_count": 61
        }
      ]
    },
    {
      "cell_type": "code",
      "source": [
        "np.exp(a)"
      ],
      "metadata": {
        "colab": {
          "base_uri": "https://localhost:8080/"
        },
        "id": "Z-FuegnRaS_e",
        "outputId": "524e23f7-4769-40dc-e71b-96e2b9cb89f1"
      },
      "execution_count": null,
      "outputs": [
        {
          "output_type": "execute_result",
          "data": {
            "text/plain": [
              "array([ 1.        ,  2.71828183,  7.3890561 , 20.08553692, 54.59815003])"
            ]
          },
          "metadata": {},
          "execution_count": 62
        }
      ]
    },
    {
      "cell_type": "code",
      "source": [
        "10 ** a"
      ],
      "metadata": {
        "colab": {
          "base_uri": "https://localhost:8080/"
        },
        "id": "yyNp2RqJaU8b",
        "outputId": "95e7c102-4e58-43d4-b078-4653b920c7df"
      },
      "execution_count": null,
      "outputs": [
        {
          "output_type": "execute_result",
          "data": {
            "text/plain": [
              "array([    1,    10,   100,  1000, 10000])"
            ]
          },
          "metadata": {},
          "execution_count": 63
        }
      ]
    },
    {
      "cell_type": "code",
      "source": [
        "np.log(a + 1)"
      ],
      "metadata": {
        "colab": {
          "base_uri": "https://localhost:8080/"
        },
        "id": "tzsOMRSvaY0U",
        "outputId": "821569da-c418-4cab-8668-17a3dae73519"
      },
      "execution_count": null,
      "outputs": [
        {
          "output_type": "execute_result",
          "data": {
            "text/plain": [
              "array([0.        , 0.69314718, 1.09861229, 1.38629436, 1.60943791])"
            ]
          },
          "metadata": {},
          "execution_count": 64
        }
      ]
    },
    {
      "cell_type": "code",
      "source": [
        "100 * a"
      ],
      "metadata": {
        "colab": {
          "base_uri": "https://localhost:8080/"
        },
        "id": "l7TgInGUaclG",
        "outputId": "7ab4dcbc-a04d-42ed-c99c-7b0f57386fe9"
      },
      "execution_count": null,
      "outputs": [
        {
          "output_type": "execute_result",
          "data": {
            "text/plain": [
              "array([  0, 100, 200, 300, 400])"
            ]
          },
          "metadata": {},
          "execution_count": 65
        }
      ]
    },
    {
      "cell_type": "code",
      "source": [
        "# 브로드캐스팅\n",
        "# - 서로 다른 크기의 두 배열의 사칙연산을 자동으로 수행하는 기능\n",
        "# - 크기가 큰 배열에 맞추어 크기가 작은 배열을 확장하여 수행\n",
        "x = np.arange(5)\n",
        "x"
      ],
      "metadata": {
        "colab": {
          "base_uri": "https://localhost:8080/"
        },
        "id": "oq8Qy4vGa6Im",
        "outputId": "4b523871-1642-4ce0-e114-6cf4a929e9be"
      },
      "execution_count": null,
      "outputs": [
        {
          "output_type": "execute_result",
          "data": {
            "text/plain": [
              "array([0, 1, 2, 3, 4])"
            ]
          },
          "metadata": {},
          "execution_count": 66
        }
      ]
    },
    {
      "cell_type": "code",
      "source": [
        "y = np.ones_like(x)\n",
        "y"
      ],
      "metadata": {
        "colab": {
          "base_uri": "https://localhost:8080/"
        },
        "id": "8N-NcTpCbMBJ",
        "outputId": "c410ef4f-4a57-40c2-b72b-2db1dad99978"
      },
      "execution_count": null,
      "outputs": [
        {
          "output_type": "execute_result",
          "data": {
            "text/plain": [
              "array([1, 1, 1, 1, 1])"
            ]
          },
          "metadata": {},
          "execution_count": 67
        }
      ]
    },
    {
      "cell_type": "code",
      "source": [
        "x + y"
      ],
      "metadata": {
        "colab": {
          "base_uri": "https://localhost:8080/"
        },
        "id": "HBSCNLo6bPqN",
        "outputId": "b2cfedd1-41cc-44c0-944f-af85ae78cb2c"
      },
      "execution_count": null,
      "outputs": [
        {
          "output_type": "execute_result",
          "data": {
            "text/plain": [
              "array([1, 2, 3, 4, 5])"
            ]
          },
          "metadata": {},
          "execution_count": 68
        }
      ]
    },
    {
      "cell_type": "code",
      "source": [
        "x + 1"
      ],
      "metadata": {
        "colab": {
          "base_uri": "https://localhost:8080/"
        },
        "id": "tUow9JgGbRfP",
        "outputId": "3df6e7f9-839a-4e9f-a400-e616e81db56d"
      },
      "execution_count": null,
      "outputs": [
        {
          "output_type": "execute_result",
          "data": {
            "text/plain": [
              "array([1, 2, 3, 4, 5])"
            ]
          },
          "metadata": {},
          "execution_count": 69
        }
      ]
    },
    {
      "cell_type": "code",
      "source": [
        "#x = np.vstack([range(7)[i:i + 3] for i in range(5)])\n",
        "x = np.array([[0, 1, 2],\n",
        "              [1, 2, 3],\n",
        "              [2, 3, 4],\n",
        "              [3, 4, 5],\n",
        "              [4, 5, 6]])\n",
        "x"
      ],
      "metadata": {
        "colab": {
          "base_uri": "https://localhost:8080/"
        },
        "id": "OstZMyEMb83t",
        "outputId": "56c3fd8b-3973-4cd4-9eed-fcf66ef608cf"
      },
      "execution_count": null,
      "outputs": [
        {
          "output_type": "execute_result",
          "data": {
            "text/plain": [
              "array([[0, 1, 2],\n",
              "       [1, 2, 3],\n",
              "       [2, 3, 4],\n",
              "       [3, 4, 5],\n",
              "       [4, 5, 6]])"
            ]
          },
          "metadata": {},
          "execution_count": 73
        }
      ]
    },
    {
      "cell_type": "code",
      "source": [
        "y = np.arange(5)[:, np.newaxis]\n",
        "y"
      ],
      "metadata": {
        "colab": {
          "base_uri": "https://localhost:8080/"
        },
        "id": "ArTlJGShcM40",
        "outputId": "bd933e47-0382-4b07-8c63-8d8e5b499b21"
      },
      "execution_count": null,
      "outputs": [
        {
          "output_type": "execute_result",
          "data": {
            "text/plain": [
              "array([[0],\n",
              "       [1],\n",
              "       [2],\n",
              "       [3],\n",
              "       [4]])"
            ]
          },
          "metadata": {},
          "execution_count": 84
        }
      ]
    },
    {
      "cell_type": "code",
      "source": [
        "x + y"
      ],
      "metadata": {
        "colab": {
          "base_uri": "https://localhost:8080/"
        },
        "id": "2tSbun43cVFE",
        "outputId": "90078d1f-a861-4135-fbce-9339af4ed92b"
      },
      "execution_count": null,
      "outputs": [
        {
          "output_type": "execute_result",
          "data": {
            "text/plain": [
              "array([[ 0,  1,  2],\n",
              "       [ 2,  3,  4],\n",
              "       [ 4,  5,  6],\n",
              "       [ 6,  7,  8],\n",
              "       [ 8,  9, 10]])"
            ]
          },
          "metadata": {},
          "execution_count": 72
        }
      ]
    }
  ]
}