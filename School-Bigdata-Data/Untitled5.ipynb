{
  "nbformat": 4,
  "nbformat_minor": 0,
  "metadata": {
    "colab": {
      "name": "Untitled5.ipynb",
      "provenance": [],
      "collapsed_sections": []
    },
    "kernelspec": {
      "name": "python3",
      "display_name": "Python 3"
    },
    "language_info": {
      "name": "python"
    }
  },
  "cells": [
    {
      "cell_type": "code",
      "execution_count": null,
      "metadata": {
        "colab": {
          "base_uri": "https://localhost:8080/"
        },
        "id": "qTsCqYfw2sH8",
        "outputId": "2181c7d4-1c35-455d-8960-28d757751d13"
      },
      "outputs": [
        {
          "output_type": "execute_result",
          "data": {
            "text/plain": [
              "array([0, 1, 2, 3, 4, 5, 6, 7, 8, 9])"
            ]
          },
          "metadata": {},
          "execution_count": 1
        }
      ],
      "source": [
        "import numpy as np\n",
        "\n",
        "ar = np.array([0, 1, 2, 3, 4, 5, 6, 7, 8, 9])\n",
        "ar"
      ]
    },
    {
      "cell_type": "code",
      "source": [
        "type(ar)\n"
      ],
      "metadata": {
        "colab": {
          "base_uri": "https://localhost:8080/"
        },
        "id": "prB5CunK3Qey",
        "outputId": "6df31665-97e7-4ce4-b81a-fb31dc580480"
      },
      "execution_count": null,
      "outputs": [
        {
          "output_type": "execute_result",
          "data": {
            "text/plain": [
              "numpy.ndarray"
            ]
          },
          "metadata": {},
          "execution_count": 2
        }
      ]
    },
    {
      "cell_type": "code",
      "source": [
        "ar*2"
      ],
      "metadata": {
        "colab": {
          "base_uri": "https://localhost:8080/"
        },
        "id": "QHE3CNJu3obp",
        "outputId": "c47d35f5-de23-47e0-de50-06e1b474df5e"
      },
      "execution_count": null,
      "outputs": [
        {
          "output_type": "execute_result",
          "data": {
            "text/plain": [
              "array([ 0,  2,  4,  6,  8, 10, 12, 14, 16, 18])"
            ]
          },
          "metadata": {},
          "execution_count": 3
        }
      ]
    },
    {
      "cell_type": "code",
      "source": [
        "import numpy as np\n",
        "\n",
        "aa = np.array([[10,20,30,40],[50,60,70,80]])\n",
        "\n"
      ],
      "metadata": {
        "colab": {
          "base_uri": "https://localhost:8080/"
        },
        "id": "LhQozbLC5zFh",
        "outputId": "3cabbe9a-5d89-438f-c206-a8bbdec215e4"
      },
      "execution_count": null,
      "outputs": [
        {
          "output_type": "execute_result",
          "data": {
            "text/plain": [
              "array([[ 30,  60,  90, 120],\n",
              "       [150, 180, 210, 240]])"
            ]
          },
          "metadata": {},
          "execution_count": 4
        }
      ]
    },
    {
      "cell_type": "code",
      "source": [
        "len(aa)  #배열의 크기 구하기"
      ],
      "metadata": {
        "colab": {
          "base_uri": "https://localhost:8080/"
        },
        "id": "hMLdiDqX7kOy",
        "outputId": "b0c74602-735f-4817-b82f-0d121794f43a"
      },
      "execution_count": null,
      "outputs": [
        {
          "output_type": "execute_result",
          "data": {
            "text/plain": [
              "2"
            ]
          },
          "metadata": {},
          "execution_count": 6
        }
      ]
    },
    {
      "cell_type": "code",
      "source": [
        "len(aa[0])"
      ],
      "metadata": {
        "colab": {
          "base_uri": "https://localhost:8080/"
        },
        "id": "fzEeUNxs7xD6",
        "outputId": "0359ad9f-ba18-41bd-d44d-6aa3959ee763"
      },
      "execution_count": null,
      "outputs": [
        {
          "output_type": "execute_result",
          "data": {
            "text/plain": [
              "4"
            ]
          },
          "metadata": {},
          "execution_count": 7
        }
      ]
    },
    {
      "cell_type": "code",
      "source": [
        "aa.shape  "
      ],
      "metadata": {
        "colab": {
          "base_uri": "https://localhost:8080/"
        },
        "id": "O3mfjGY37_Sh",
        "outputId": "11b3aa3a-6c0d-46d1-fef7-3bf40e6b4251"
      },
      "execution_count": null,
      "outputs": [
        {
          "output_type": "execute_result",
          "data": {
            "text/plain": [
              "(2, 4)"
            ]
          },
          "metadata": {},
          "execution_count": 11
        }
      ]
    },
    {
      "cell_type": "code",
      "source": [
        "aa>=40"
      ],
      "metadata": {
        "colab": {
          "base_uri": "https://localhost:8080/"
        },
        "id": "CEirXcfG8Ycp",
        "outputId": "ee0ff0f1-43e0-493d-9ca8-c0d276e84726"
      },
      "execution_count": null,
      "outputs": [
        {
          "output_type": "execute_result",
          "data": {
            "text/plain": [
              "array([[False, False, False,  True],\n",
              "       [ True,  True,  True,  True]])"
            ]
          },
          "metadata": {},
          "execution_count": 9
        }
      ]
    },
    {
      "cell_type": "code",
      "source": [
        "#인덱싱\n",
        "#리스트의 인덱싱과 같은 방식으로 사용\n",
        "#다차원 배열은 콤마(,)를 사용하여 접근\n",
        "\n",
        "#1차원 배열 인덱싱\n",
        "a = np.array([0,1,2,3,4])\n",
        "#print(a[2],a[-1])\n",
        "\n",
        "#다차원 배열\n",
        "a  = np.array([[0,1,2],[3,4,5]])\n",
        "print(a)\n",
        "print(a[0,0], a[0,1],a[-1,-1])"
      ],
      "metadata": {
        "colab": {
          "base_uri": "https://localhost:8080/"
        },
        "id": "D-JkDlus-KPi",
        "outputId": "d4eb9645-63d4-4da0-a0e9-9b34f9c4183e"
      },
      "execution_count": null,
      "outputs": [
        {
          "output_type": "stream",
          "name": "stdout",
          "text": [
            "[[0 1 2]\n",
            " [3 4 5]]\n",
            "0 1 5\n"
          ]
        }
      ]
    },
    {
      "cell_type": "code",
      "source": [
        "#슬라이싱\n",
        "#복수 개의 원소를 인덱싱하는 것을 의미\n",
        "\n",
        "a = np.array([[0,1,2,3],[4,5,6,7,]])\n",
        "print(a)\n",
        "a[0, :]                   # ':'은 모두를 의미"
      ],
      "metadata": {
        "colab": {
          "base_uri": "https://localhost:8080/"
        },
        "id": "exURfrFl_206",
        "outputId": "a0012439-5291-4d20-e104-5f8fb4239b4d"
      },
      "execution_count": null,
      "outputs": [
        {
          "output_type": "stream",
          "name": "stdout",
          "text": [
            "[[0 1 2 3]\n",
            " [4 5 6 7]]\n"
          ]
        },
        {
          "output_type": "execute_result",
          "data": {
            "text/plain": [
              "array([0, 1, 2, 3])"
            ]
          },
          "metadata": {},
          "execution_count": 24
        }
      ]
    },
    {
      "cell_type": "code",
      "source": [
        "a[:,1]"
      ],
      "metadata": {
        "colab": {
          "base_uri": "https://localhost:8080/"
        },
        "id": "ow3QV1vzCChk",
        "outputId": "030f7229-6509-4340-b836-79d34317debd"
      },
      "execution_count": null,
      "outputs": [
        {
          "output_type": "execute_result",
          "data": {
            "text/plain": [
              "array([1, 5])"
            ]
          },
          "metadata": {},
          "execution_count": 25
        }
      ]
    },
    {
      "cell_type": "code",
      "source": [
        "a[1,1:2] "
      ],
      "metadata": {
        "colab": {
          "base_uri": "https://localhost:8080/"
        },
        "id": "rE8o4nklDKOj",
        "outputId": "834d7179-6b43-4cf8-e95e-69e25c3d898a"
      },
      "execution_count": null,
      "outputs": [
        {
          "output_type": "execute_result",
          "data": {
            "text/plain": [
              "array([5])"
            ]
          },
          "metadata": {},
          "execution_count": 27
        }
      ]
    },
    {
      "cell_type": "code",
      "source": [
        "a[:2,:2]"
      ],
      "metadata": {
        "colab": {
          "base_uri": "https://localhost:8080/"
        },
        "id": "H3FHhzUdEIkD",
        "outputId": "d9a1188e-c970-458f-dc8f-aa3086d79884"
      },
      "execution_count": null,
      "outputs": [
        {
          "output_type": "execute_result",
          "data": {
            "text/plain": [
              "array([[0, 1],\n",
              "       [4, 5]])"
            ]
          },
          "metadata": {},
          "execution_count": 28
        }
      ]
    },
    {
      "cell_type": "markdown",
      "source": [
        "m = np.array([[0,1,2,3,4],\n",
        "              [5,6,7,8,9],\n",
        "              [10,11,12,13,14]])\n",
        "#이 행렬에서 값 7 을 인덱싱한다\n",
        "print(m[1,2])\n",
        "# 이 행렬에서 값 14을 인덱싱한다\n",
        "print(m[2,4])\n",
        "# 이 행렬에서 배열 [6,7]을 슬라이싱한다\n",
        "print(m[1,1:3])\n",
        "#이 행렬에서 배열 [7, 12] 을 슬라이싱한다\n",
        "print(m[1:3,2])\n",
        "# 이 행렬에서 배열 [[3, 4], [8, 9]] 을 슬라이싱한다\n",
        "print(m[0:2,3:5])"
      ],
      "metadata": {
        "id": "CN_WVmQBEqM8"
      }
    },
    {
      "cell_type": "code",
      "source": [
        "# 배열 인덱싱\n",
        "#배열의 대괄호 안에 위치 정보를 나타내는 새로운 배열 입력 가능\n",
        "#이 새로운 배열을 인덱스 배열이라고 함\n",
        "# 인덱스 배열에는 불리언 배열과 정수배열의 두 가지가 존재\n",
        "#불리언 배열 방식\n",
        "# - TRUE, False의 두 값으로만 구성\n",
        "# - 인덱스 배열의 크기가 기존배열의 크기와 같아야함\n",
        "#정수 배열 방식\n",
        "# - 기존 배열의 원소를 가리키는 정수값으로 인덱스 배열이 구성됨\n",
        "# - 기존 배열과 크기가 달라도 가능(중복도 가능)"
      ],
      "metadata": {
        "id": "Sqm9RhpKP_rN"
      },
      "execution_count": null,
      "outputs": []
    },
    {
      "cell_type": "code",
      "source": [
        "import numpy as np\n",
        "\n",
        "a = np.array ([0, 1, 2, 3, 4, 5, 6, 7, 8,9])\n",
        "idx = np.array([True,False,True,False,True,\n",
        "                False,True,False,True,False])\n",
        "\n",
        "a[idx]"
      ],
      "metadata": {
        "colab": {
          "base_uri": "https://localhost:8080/"
        },
        "id": "tXQS40HQRMUf",
        "outputId": "1a61e3fc-658f-48d0-b006-36d3f52e9b27"
      },
      "execution_count": null,
      "outputs": [
        {
          "output_type": "execute_result",
          "data": {
            "text/plain": [
              "array([0, 2, 4, 6, 8])"
            ]
          },
          "metadata": {},
          "execution_count": 47
        }
      ]
    },
    {
      "cell_type": "code",
      "source": [
        "a % 2 == 0"
      ],
      "metadata": {
        "colab": {
          "base_uri": "https://localhost:8080/"
        },
        "id": "RMigzYQUR8hf",
        "outputId": "5ab8c9e1-5b60-4b2f-ff99-640e4e08b157"
      },
      "execution_count": null,
      "outputs": [
        {
          "output_type": "execute_result",
          "data": {
            "text/plain": [
              "array([ True, False,  True, False,  True, False,  True, False,  True,\n",
              "       False])"
            ]
          },
          "metadata": {},
          "execution_count": 48
        }
      ]
    },
    {
      "cell_type": "code",
      "source": [
        "a[a % 2 == 0]"
      ],
      "metadata": {
        "colab": {
          "base_uri": "https://localhost:8080/"
        },
        "id": "0hjlM1PFSG4V",
        "outputId": "ac2afbf2-8831-412d-83b1-d0d550f6438c"
      },
      "execution_count": null,
      "outputs": [
        {
          "output_type": "execute_result",
          "data": {
            "text/plain": [
              "array([0, 2, 4, 6, 8])"
            ]
          },
          "metadata": {},
          "execution_count": 49
        }
      ]
    }
  ]
}