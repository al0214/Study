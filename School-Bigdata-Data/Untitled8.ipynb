{
  "nbformat": 4,
  "nbformat_minor": 0,
  "metadata": {
    "colab": {
      "name": "Untitled8.ipynb",
      "provenance": []
    },
    "kernelspec": {
      "name": "python3",
      "display_name": "Python 3"
    },
    "language_info": {
      "name": "python"
    }
  },
  "cells": [
    {
      "cell_type": "code",
      "execution_count": null,
      "metadata": {
        "id": "QDCSOxuiFeXx"
      },
      "outputs": [],
      "source": [
        "#Pandas 소개\n",
        "# - 시계열 데이터나 표 형태의 테이터를 다루기 위한 패키지\n",
        "# - 시계열 데이터란 시간의 흐름에 따라 변하는 데이터\n",
        "# - pd라는 별칭으로 임포트하는 것이 관례\n",
        "import pandas as pd"
      ]
    },
    {
      "cell_type": "code",
      "source": [
        "# 시리즈 클래스\n",
        "# - 넘파이에서 제공하는 1차원 배열과 비슷\n",
        "# - 데이터의 의미를 표시하는 인덱스를 붙일 수 있음"
      ],
      "metadata": {
        "id": "trFNLEltHD9C"
      },
      "execution_count": null,
      "outputs": []
    },
    {
      "cell_type": "code",
      "source": [
        "# 데이터프레임 클래스\n",
        "# - 2차원 행렬 데이터에 인덱스를 붙인 것\n",
        "# - 엑셀에서 다루는 표 형태의 데이터\n",
        "# - 행 인덱스와 열 인덱스 지정 가능"
      ],
      "metadata": {
        "id": "dlYor3lXHS1B"
      },
      "execution_count": null,
      "outputs": []
    },
    {
      "cell_type": "code",
      "source": [
        "# 시리즈 생성\n",
        "# - 인덱스와 값은 index, values 속성으로 접근 가능\n",
        "# - name 속성을 이용하면 데이터에 이름을 붙일 수 있음\n",
        "# - index.name 속성을 이용하면 시리즈의 인덱스에도 이름을 붙일 수 있음\n",
        "# - 리스트 배열 형식으로 데이터를 삽입하여 시리즈 객체를 만들수 있음\n",
        "# - 인덱스의 길이는 데이터의 길이와 같아야 함\n",
        "# - 인덱스는 라벨이라고도 부르며, 문자열, 날짜, 시간, 정수 등이 가능\n",
        "s = pd.Series([9904312,3448737,2890451,2466052],\n",
        "              index=[\"서울\",\"부산\",\"인천\",\"대구\"])\n",
        "s"
      ],
      "metadata": {
        "colab": {
          "base_uri": "https://localhost:8080/"
        },
        "id": "L9aexrpcIOLz",
        "outputId": "1a22baf6-3cc9-434a-8563-3f237c3e4ecf"
      },
      "execution_count": null,
      "outputs": [
        {
          "output_type": "execute_result",
          "data": {
            "text/plain": [
              "서울    9904312\n",
              "부산    3448737\n",
              "인천    2890451\n",
              "대구    2466052\n",
              "dtype: int64"
            ]
          },
          "metadata": {},
          "execution_count": 7
        }
      ]
    },
    {
      "cell_type": "code",
      "source": [
        "pd.Series(range(10,14))       #인덱스 미지정 시 0부터 자동 지정"
      ],
      "metadata": {
        "colab": {
          "base_uri": "https://localhost:8080/"
        },
        "id": "PGbdxkJDJ4CR",
        "outputId": "dde11007-5f56-4b41-b3a3-a8b28f076e00"
      },
      "execution_count": null,
      "outputs": [
        {
          "output_type": "execute_result",
          "data": {
            "text/plain": [
              "0    10\n",
              "1    11\n",
              "2    12\n",
              "3    13\n",
              "dtype: int64"
            ]
          },
          "metadata": {},
          "execution_count": 8
        }
      ]
    },
    {
      "cell_type": "code",
      "source": [
        "s.index"
      ],
      "metadata": {
        "colab": {
          "base_uri": "https://localhost:8080/"
        },
        "id": "fqN9XW5ZKy-z",
        "outputId": "206b2ae6-e6ad-47e1-86b1-a9f5f635a856"
      },
      "execution_count": null,
      "outputs": [
        {
          "output_type": "execute_result",
          "data": {
            "text/plain": [
              "Index(['서울', '부산', '인천', '대구'], dtype='object')"
            ]
          },
          "metadata": {},
          "execution_count": 9
        }
      ]
    },
    {
      "cell_type": "code",
      "source": [
        "s.values"
      ],
      "metadata": {
        "colab": {
          "base_uri": "https://localhost:8080/"
        },
        "id": "5OElbyNcK1R1",
        "outputId": "a9088649-f0d2-47f7-9869-a882291ec35a"
      },
      "execution_count": null,
      "outputs": [
        {
          "output_type": "execute_result",
          "data": {
            "text/plain": [
              "array([9904312, 3448737, 2890451, 2466052])"
            ]
          },
          "metadata": {},
          "execution_count": 10
        }
      ]
    },
    {
      "cell_type": "code",
      "source": [
        "s.name = \"인구\"\n",
        "s.index.name = \"도시\"\n",
        "s"
      ],
      "metadata": {
        "colab": {
          "base_uri": "https://localhost:8080/"
        },
        "id": "fhgi2g6QK3Ne",
        "outputId": "eecac757-5879-4865-cb4e-10ef82695ec9"
      },
      "execution_count": null,
      "outputs": [
        {
          "output_type": "execute_result",
          "data": {
            "text/plain": [
              "도시\n",
              "서울    9904312\n",
              "부산    3448737\n",
              "인천    2890451\n",
              "대구    2466052\n",
              "Name: 인구, dtype: int64"
            ]
          },
          "metadata": {},
          "execution_count": 11
        }
      ]
    },
    {
      "cell_type": "code",
      "source": [
        "# 시리즈 연산\n",
        "# - 시리즈도 넘파이 배열과 같이 벡터화 연산이 가능\n",
        "# - 시리즈의 값에만 적용되며, 인덱스에는 적용되지 않음\n",
        "s / 1000000"
      ],
      "metadata": {
        "colab": {
          "base_uri": "https://localhost:8080/"
        },
        "id": "dDREHy90LJmj",
        "outputId": "7ce6d7cc-c02b-467f-b9ae-48863737c4eb"
      },
      "execution_count": null,
      "outputs": [
        {
          "output_type": "execute_result",
          "data": {
            "text/plain": [
              "도시\n",
              "서울    9.904312\n",
              "부산    3.448737\n",
              "인천    2.890451\n",
              "대구    2.466052\n",
              "Name: 인구, dtype: float64"
            ]
          },
          "metadata": {},
          "execution_count": 12
        }
      ]
    },
    {
      "cell_type": "code",
      "source": [
        "# pandas 불러오기\n",
        "import pandas as pd"
      ],
      "metadata": {
        "id": "EEmxEic9TgK9"
      },
      "execution_count": null,
      "outputs": []
    },
    {
      "cell_type": "code",
      "source": [
        "# k : v 구조를 갖는 딕셔너리를 만들고, 변수 dict_data에 저장\n",
        "dict_data = {'a':1,'b':2,'c':3}\n",
        "\n",
        "# 판다스 Series() 함수로 딕셔너리(dict_data)를 시리즈로 변환.\n",
        "# 변수 sr에 저장\n",
        "sr = pd.Series(dict_data)\n",
        "\n",
        "# 변수 sr의 자료형 출력\n",
        "print(type(sr))\n",
        "\n",
        "# 변수 sr에 저장되어 있는 시리즈 객체를 출력\n",
        "print(sr)"
      ],
      "metadata": {
        "colab": {
          "base_uri": "https://localhost:8080/"
        },
        "id": "k8agdFKLTk1d",
        "outputId": "6131014a-dcde-4267-ed4e-dac86e4f2610"
      },
      "execution_count": null,
      "outputs": [
        {
          "output_type": "stream",
          "name": "stdout",
          "text": [
            "<class 'pandas.core.series.Series'>\n",
            "a    1\n",
            "b    2\n",
            "c    3\n",
            "dtype: int64\n"
          ]
        }
      ]
    },
    {
      "cell_type": "code",
      "source": [
        "# 리스트를 시리즈로 변환하여 변수 sr에 저장\n",
        "list_data = ['2019-01-02',3.14,'ABC',100,True]\n",
        "sr = pd.Series(list_data)\n",
        "sr"
      ],
      "metadata": {
        "colab": {
          "base_uri": "https://localhost:8080/"
        },
        "id": "RVpJu86hV9dD",
        "outputId": "470f6d1a-75ba-4364-9e87-31c64ef23f23"
      },
      "execution_count": null,
      "outputs": [
        {
          "output_type": "execute_result",
          "data": {
            "text/plain": [
              "0    2019-01-02\n",
              "1          3.14\n",
              "2           ABC\n",
              "3           100\n",
              "4          True\n",
              "dtype: object"
            ]
          },
          "metadata": {},
          "execution_count": 22
        }
      ]
    },
    {
      "cell_type": "code",
      "source": [
        "# 인덱스 배열은 변수 idx에 저장. 데이터 값 배열은 변수 val에 저장\n",
        "idx = sr.index\n",
        "val = sr.values\n",
        "print(idx)\n",
        "print('\\n')\n",
        "print(val)"
      ],
      "metadata": {
        "colab": {
          "base_uri": "https://localhost:8080/"
        },
        "id": "XIsHvTBeWeGs",
        "outputId": "0fbb66da-4a64-405a-abf9-2d82f83cc9ba"
      },
      "execution_count": null,
      "outputs": [
        {
          "output_type": "stream",
          "name": "stdout",
          "text": [
            "RangeIndex(start=0, stop=5, step=1)\n",
            "\n",
            "\n",
            "['2019-01-02' 3.14 'ABC' 100 True]\n"
          ]
        }
      ]
    },
    {
      "cell_type": "code",
      "source": [
        "# 시리즈의 index 속성과 values속성을 이용하면 인덱스 배열과 데이터 값의\n",
        "#배열을 불러올 수 있다.\n",
        "\n",
        "# 실행 결과에서 인덱스는 0~4범위의 정수를 갖는 RangeIndex객체로 표시\n",
        "\n",
        "# 데이터 값 배열은 원래 데이터인 list_data의 리스트 원소 배열의 순서를 \n",
        "#유지한 상태로 입력된다."
      ],
      "metadata": {
        "id": "dv5vh2vLXrLe"
      },
      "execution_count": null,
      "outputs": []
    },
    {
      "cell_type": "code",
      "source": [
        "# 투플을 시리즈로 변환(index 옵션에 인덱스 이름을 지정)\n",
        "import pandas as pd\n",
        "\n",
        "tup_data = ('영인','2010-05-01','여',True)\n",
        "sr = pd.Series(tup_data, index=['이름',\"생년월일\",'성별','학생여부'])\n",
        "sr"
      ],
      "metadata": {
        "colab": {
          "base_uri": "https://localhost:8080/"
        },
        "id": "cxJS_K3CZTpw",
        "outputId": "062cf041-e0b1-4a85-d8c1-5ba82a649b8b"
      },
      "execution_count": null,
      "outputs": [
        {
          "output_type": "execute_result",
          "data": {
            "text/plain": [
              "이름              영인\n",
              "생년월일    2010-05-01\n",
              "성별               여\n",
              "학생여부          True\n",
              "dtype: object"
            ]
          },
          "metadata": {},
          "execution_count": 24
        }
      ]
    },
    {
      "cell_type": "code",
      "source": [
        "# 원소를 1개 선택\n",
        "print(sr[0])        # sr의 1번째 원소를 선택(정수형 위치 인덱스를 활용)\n",
        "print(sr['이름'])   # '이름' 라벨을 가진 원소를 선택(인덱스 이름을 활용)"
      ],
      "metadata": {
        "colab": {
          "base_uri": "https://localhost:8080/"
        },
        "id": "253CgZkhait3",
        "outputId": "97a5250e-1b47-43c0-c330-c2bef1cad803"
      },
      "execution_count": null,
      "outputs": [
        {
          "output_type": "stream",
          "name": "stdout",
          "text": [
            "영인\n",
            "영인\n"
          ]
        }
      ]
    },
    {
      "cell_type": "code",
      "source": [
        "# 여러 개의 원소를 선택 (인덱스 리스트 활용)\n",
        "print(sr[[1,2]])\n",
        "print('\\n')\n",
        "print(sr[['생년월일','성별']])"
      ],
      "metadata": {
        "colab": {
          "base_uri": "https://localhost:8080/"
        },
        "id": "CQxlS1d1ewzC",
        "outputId": "7d9253e0-14b7-4901-820c-bc9999b57061"
      },
      "execution_count": null,
      "outputs": [
        {
          "output_type": "stream",
          "name": "stdout",
          "text": [
            "생년월일    2010-05-01\n",
            "성별               여\n",
            "dtype: object\n",
            "\n",
            "\n",
            "생년월일    2010-05-01\n",
            "성별               여\n",
            "dtype: object\n"
          ]
        }
      ]
    },
    {
      "cell_type": "code",
      "source": [
        "print(sr[1:3])\n",
        "print('\\n')\n",
        "print(sr['생년월일':'학생여부'])"
      ],
      "metadata": {
        "colab": {
          "base_uri": "https://localhost:8080/"
        },
        "id": "SmJFHGWEhC7-",
        "outputId": "3bc2b5a1-459f-4d8f-bc49-66a81138abda"
      },
      "execution_count": null,
      "outputs": [
        {
          "output_type": "stream",
          "name": "stdout",
          "text": [
            "생년월일    2010-05-01\n",
            "성별               여\n",
            "dtype: object\n",
            "\n",
            "\n",
            "생년월일    2010-05-01\n",
            "성별               여\n",
            "학생여부          True\n",
            "dtype: object\n"
          ]
        }
      ]
    },
    {
      "cell_type": "code",
      "source": [
        "s = pd.Series([9904312,3448737,2890451,2466052],\n",
        "              index=[\"서울\",\"부산\",\"인천\",\"대구\"])\n",
        "s"
      ],
      "metadata": {
        "colab": {
          "base_uri": "https://localhost:8080/"
        },
        "id": "U7fHf2LMhEGy",
        "outputId": "18836d83-00ac-44d0-93f8-7444703abcd5"
      },
      "execution_count": null,
      "outputs": [
        {
          "output_type": "execute_result",
          "data": {
            "text/plain": [
              "서울    9904312\n",
              "부산    3448737\n",
              "인천    2890451\n",
              "대구    2466052\n",
              "dtype: int64"
            ]
          },
          "metadata": {},
          "execution_count": 32
        }
      ]
    },
    {
      "cell_type": "code",
      "source": [
        "print(s[1])\n",
        "print(s[\"부산\"])"
      ],
      "metadata": {
        "colab": {
          "base_uri": "https://localhost:8080/"
        },
        "id": "sryNS_QkhWLj",
        "outputId": "353253ce-0d99-4d8f-85d0-51e66f2738e9"
      },
      "execution_count": null,
      "outputs": [
        {
          "output_type": "stream",
          "name": "stdout",
          "text": [
            "3448737\n",
            "3448737\n"
          ]
        }
      ]
    },
    {
      "cell_type": "code",
      "source": [
        "print(s[[0,3,1]])\n",
        "print(s[[\"서울\",\"대구\",\"부산\"]])"
      ],
      "metadata": {
        "colab": {
          "base_uri": "https://localhost:8080/"
        },
        "id": "AAwat712hcGO",
        "outputId": "6c012826-6339-489a-fb91-f02287b959ef"
      },
      "execution_count": null,
      "outputs": [
        {
          "output_type": "stream",
          "name": "stdout",
          "text": [
            "서울    9904312\n",
            "대구    2466052\n",
            "부산    3448737\n",
            "dtype: int64\n",
            "서울    9904312\n",
            "대구    2466052\n",
            "부산    3448737\n",
            "dtype: int64\n"
          ]
        }
      ]
    },
    {
      "cell_type": "code",
      "source": [
        "# 숫자 인덱싱은 마지막 값을 포함하지 않지만, 문자열 인뎃싱은 마지막 값을 포함\n",
        "print(s[1:3])\n",
        "print('\\n')\n",
        "print(s[\"부산\":\"대구\"])\n",
        "print('\\n')\n",
        "print(s[(250e4 < s) & (s < 500e4)])"
      ],
      "metadata": {
        "colab": {
          "base_uri": "https://localhost:8080/"
        },
        "id": "l1iiqEDninU3",
        "outputId": "261d5cb9-bbd1-44e9-dde1-da384fc8ee70"
      },
      "execution_count": null,
      "outputs": [
        {
          "output_type": "stream",
          "name": "stdout",
          "text": [
            "부산    3448737\n",
            "인천    2890451\n",
            "dtype: int64\n",
            "\n",
            "\n",
            "부산    3448737\n",
            "인천    2890451\n",
            "대구    2466052\n",
            "dtype: int64\n",
            "\n",
            "\n",
            "부산    3448737\n",
            "인천    2890451\n",
            "dtype: int64\n"
          ]
        }
      ]
    },
    {
      "cell_type": "code",
      "source": [
        "# 라벨이 영문 문자열일 경우 속성처럼 접근 가능\n",
        "s0 = pd.Series(range(3), index=[\"a\",\"b\",\"c\"])\n",
        "s0"
      ],
      "metadata": {
        "colab": {
          "base_uri": "https://localhost:8080/"
        },
        "id": "yl3RtiJAjjW7",
        "outputId": "f9d51cc5-8a20-4cc9-a992-2f08b6974c79"
      },
      "execution_count": null,
      "outputs": [
        {
          "output_type": "execute_result",
          "data": {
            "text/plain": [
              "a    0\n",
              "b    1\n",
              "c    2\n",
              "dtype: int64"
            ]
          },
          "metadata": {},
          "execution_count": 41
        }
      ]
    },
    {
      "cell_type": "code",
      "source": [
        "s0.b"
      ],
      "metadata": {
        "colab": {
          "base_uri": "https://localhost:8080/"
        },
        "id": "ElWMkkimjvQF",
        "outputId": "5bf8a60a-0df2-4860-f000-72cdd1a5ba1a"
      },
      "execution_count": null,
      "outputs": [
        {
          "output_type": "execute_result",
          "data": {
            "text/plain": [
              "1"
            ]
          },
          "metadata": {},
          "execution_count": 39
        }
      ]
    }
  ]
}